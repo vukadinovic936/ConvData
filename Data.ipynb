{
 "cells": [
  {
   "cell_type": "code",
   "execution_count": 14,
   "id": "40db2bd5",
   "metadata": {},
   "outputs": [],
   "source": [
    "import torch\n",
    "from torch import nn\n",
    "import torch.nn.functional as F\n",
    "import numpy as np\n",
    "from utils import *\n",
    "import matplotlib.pyplot as plt\n",
    "import math\n",
    "import random\n",
    "from tqdm import tqdm\n",
    "from PIL import Image"
   ]
  },
  {
   "cell_type": "markdown",
   "id": "ba1ac7b8",
   "metadata": {},
   "source": [
    "Focus on K=100, L=28 (2 dim), M=2"
   ]
  },
  {
   "cell_type": "markdown",
   "id": "166b3442",
   "metadata": {},
   "source": [
    "## Network"
   ]
  },
  {
   "cell_type": "code",
   "execution_count": 15,
   "id": "8c9c0138",
   "metadata": {},
   "outputs": [],
   "source": [
    "class FCN(nn.Module):\n",
    "    def __init__(self, d=28):\n",
    "        super().__init__()\n",
    "        #W\n",
    "        self.lin1 = nn.Linear(28*28,100)\n",
    "        #V fix it to 1/100\n",
    "        self.lin2 = nn.Linear(1,100)\n",
    "        self.lin2.weight.data=torch.ones(1,100)/100\n",
    "        self.lin2.bias.data = torch.zeros(1)\n",
    "        #self.sigmoid = nn.Sigmoid()\n",
    "\n",
    "\n",
    "    def forward(self, x):\n",
    "        x = self.lin1(x)\n",
    "        x = F.sigmoid(x)\n",
    "        x = torch.erf(x / torch.sqrt(torch.tensor(2.0)))\n",
    "        x = self.lin2(x)\n",
    "        return x"
   ]
  },
  {
   "cell_type": "code",
   "execution_count": 16,
   "id": "3f73a5d0",
   "metadata": {},
   "outputs": [],
   "source": [
    "class MyConv(nn.Module):\n",
    "    def __init__(self, d=28):\n",
    "        super().__init__()\n",
    "        self.conv1 = nn.Conv2d(in_channels=1, out_channels=1, kernel_size=5, stride=3, padding=2,\n",
    "                              padding_mode='circular')\n",
    "        self.fc = nn.Linear(100,1)\n",
    "        self.softmax=nn.LogSoftmax(dim=1)\n",
    "\n",
    "    def forward(self, x):\n",
    "        x = self.conv1(x)\n",
    "        x = F.relu(x)\n",
    "        x = x.view(x.size(0),-1)\n",
    "        x = self.fc(x)\n",
    "        return x"
   ]
  },
  {
   "cell_type": "code",
   "execution_count": 17,
   "id": "650be646",
   "metadata": {},
   "outputs": [],
   "source": [
    "fc = FCN()"
   ]
  },
  {
   "cell_type": "code",
   "execution_count": 18,
   "id": "bcf855e2",
   "metadata": {},
   "outputs": [],
   "source": [
    "conv = MyConv()"
   ]
  },
  {
   "cell_type": "code",
   "execution_count": 19,
   "id": "291b66d7",
   "metadata": {},
   "outputs": [
    {
     "ename": "NameError",
     "evalue": "name 'inw' is not defined",
     "output_type": "error",
     "traceback": [
      "\u001b[1;31m---------------------------------------------------------------------------\u001b[0m",
      "\u001b[1;31mNameError\u001b[0m                                 Traceback (most recent call last)",
      "\u001b[1;32m<ipython-input-19-7a2e2c4a0cdd>\u001b[0m in \u001b[0;36m<module>\u001b[1;34m\u001b[0m\n\u001b[1;32m----> 1\u001b[1;33m \u001b[0mconv\u001b[0m\u001b[1;33m(\u001b[0m\u001b[0mtorch\u001b[0m\u001b[1;33m.\u001b[0m\u001b[0munsqueeze\u001b[0m\u001b[1;33m(\u001b[0m\u001b[0mtorch\u001b[0m\u001b[1;33m.\u001b[0m\u001b[0munsqueeze\u001b[0m\u001b[1;33m(\u001b[0m\u001b[0minw\u001b[0m\u001b[1;33m,\u001b[0m\u001b[1;36m0\u001b[0m\u001b[1;33m)\u001b[0m\u001b[1;33m,\u001b[0m\u001b[1;36m0\u001b[0m\u001b[1;33m)\u001b[0m\u001b[1;33m)\u001b[0m\u001b[1;33m\u001b[0m\u001b[1;33m\u001b[0m\u001b[0m\n\u001b[0m",
      "\u001b[1;31mNameError\u001b[0m: name 'inw' is not defined"
     ]
    }
   ],
   "source": [
    "conv(torch.unsqueeze(torch.unsqueeze(inw,0),0))"
   ]
  },
  {
   "cell_type": "code",
   "execution_count": null,
   "id": "37ab4eee",
   "metadata": {},
   "outputs": [],
   "source": [
    "W=fc.lin1.weight.data"
   ]
  },
  {
   "cell_type": "code",
   "execution_count": null,
   "id": "7c2780e8",
   "metadata": {},
   "outputs": [],
   "source": [
    "torch.mean(W)"
   ]
  },
  {
   "cell_type": "code",
   "execution_count": null,
   "id": "ccef0836",
   "metadata": {},
   "outputs": [],
   "source": [
    "torch.std(W)"
   ]
  },
  {
   "cell_type": "code",
   "execution_count": null,
   "id": "4678a61c",
   "metadata": {},
   "outputs": [],
   "source": [
    "1/(28*28)"
   ]
  },
  {
   "cell_type": "code",
   "execution_count": 8,
   "id": "959fd7c9",
   "metadata": {},
   "outputs": [],
   "source": [
    "def IPR(w):\n",
    "    return torch.sum(w**4)/(torch.sum(w**2)**2)"
   ]
  },
  {
   "cell_type": "code",
   "execution_count": 9,
   "id": "c66f7bd9",
   "metadata": {},
   "outputs": [],
   "source": [
    "def IPR(w):\n",
    "    return torch.sum(w**4)/(torch.sum(w**2)**2)"
   ]
  },
  {
   "cell_type": "code",
   "execution_count": 10,
   "id": "db7999a8",
   "metadata": {},
   "outputs": [],
   "source": [
    "def visualize_fields(W):\n",
    "    \"\"\"\n",
    "    W - K x (NxN) matrix\n",
    "        K number of linear units\n",
    "        NxN shape of the image\n",
    "    \"\"\"\n",
    "    K,N_squared = W.shape\n",
    "    N = int(np.sqrt(N_squared))\n",
    "    for i in range(K):\n",
    "        print(IPR(W[i]))\n",
    "        plt.imshow(W[i].reshape((N,N)))\n",
    "        plt.show()"
   ]
  },
  {
   "cell_type": "code",
   "execution_count": null,
   "id": "cdbb6bc4",
   "metadata": {},
   "outputs": [],
   "source": [
    "#W=fc.lin1.weight.data\n",
    "#visualize_fields(W)"
   ]
  },
  {
   "cell_type": "markdown",
   "id": "bf21e4a0",
   "metadata": {},
   "source": [
    "For binary discrimination tasks, we used {−1, +1} output for the two classes. "
   ]
  },
  {
   "cell_type": "markdown",
   "id": "4927f48b",
   "metadata": {},
   "source": [
    "## DATA\n",
    "non-Gaussian, higher-order local structure\n",
    "of the inputs,\n",
    "\n",
    "\n",
    "math.erf(x)\n",
    "\n",
    "\n",
    "$\\epsilon^{-}=2.8$\n",
    "\n",
    "\n",
    "$\\epsilon^{+}=5.6$"
   ]
  },
  {
   "cell_type": "markdown",
   "id": "8bae0f20",
   "metadata": {},
   "source": [
    "Now I got some ok results for\n",
    "\n",
    "$\\epsilon^{+} = 5.6$\n",
    "$\\epsilon^{-} = 1$\n",
    "$ gain factor=5 $\n",
    "\n",
    "sigmoid activation"
   ]
  },
  {
   "cell_type": "code",
   "execution_count": 101,
   "id": "bf79f98d",
   "metadata": {},
   "outputs": [],
   "source": [
    "import numpy as np\n",
    "# define functions\n",
    "vec_erf = np.vectorize(math.erf)\n",
    "psi = lambda z: vec_erf(z/(np.sqrt(2)))\n",
    "\n",
    "gain_factor=5\n",
    "normalizer = np.sqrt(2/np.pi * np.arcsin(gain_factor**2/(1+gain_factor**2)))\n",
    "epsilon_plus=5.6\n",
    "epsilon_minus=5\n",
    "img_size = 28\n",
    "mean_vector = np.zeros(img_size)\n",
    "positive_cov_matrix = np.ones((img_size,img_size))\n",
    "negative_cov_matrix = np.ones((img_size,img_size))\n",
    "\n",
    "# Generate a random vector\n",
    "#random_vector = np.random.multivariate_normal(mean_vector, cov_matrix)"
   ]
  },
  {
   "cell_type": "code",
   "execution_count": 102,
   "id": "45f5a5e7",
   "metadata": {},
   "outputs": [],
   "source": [
    "for i in range(img_size):\n",
    "    for j in range(img_size):\n",
    "        positive_cov_matrix[i,j] = np.exp(- ( np.abs(i-j) / epsilon_plus)**2 )\n",
    "positive_cov_matrix=np.kron(positive_cov_matrix,positive_cov_matrix)"
   ]
  },
  {
   "cell_type": "code",
   "execution_count": 103,
   "id": "e3346509",
   "metadata": {},
   "outputs": [],
   "source": [
    "for i in range(img_size):\n",
    "    for j in range(img_size):\n",
    "        negative_cov_matrix[i,j] = np.exp(- ( np.abs(i-j) / epsilon_minus)**2 )\n",
    "negative_cov_matrix=np.kron(negative_cov_matrix,negative_cov_matrix)"
   ]
  },
  {
   "cell_type": "code",
   "execution_count": 104,
   "id": "f4a5916d",
   "metadata": {},
   "outputs": [],
   "source": [
    "# def get_positive_example(n=10000):\n",
    "#     z_mu = np.random.multivariate_normal(np.ones(784), positive_cov_matrix,n)\n",
    "#     nlgp_z = psi(gain_factor * z_mu)/normalizer\n",
    "#     return nlgp_z"
   ]
  },
  {
   "cell_type": "code",
   "execution_count": 105,
   "id": "3125cadc",
   "metadata": {},
   "outputs": [],
   "source": [
    "# def get_negative_example(n=10000):\n",
    "#     z_mu = np.random.multivariate_normal(np.ones(784), negative_cov_matrix,n)\n",
    "#     nlgp_z = psi(gain_factor * z_mu)/normalizer\n",
    "#     return nlgp_z"
   ]
  },
  {
   "cell_type": "code",
   "execution_count": 106,
   "id": "be3eef4f",
   "metadata": {},
   "outputs": [],
   "source": [
    "def get_online_batch(n=1000):\n",
    "    #np.random.random()\n",
    "    positive_size=int(0.5*n)\n",
    "    negative_size=n-positive_size\n",
    "    \n",
    "    z_mu_pos = np.random.multivariate_normal(np.zeros(img_size**2), positive_cov_matrix,positive_size)\n",
    "    positive_dataset = psi(gain_factor * z_mu_pos)/normalizer\n",
    "    \n",
    "    z_mu_neg = np.random.multivariate_normal(np.zeros(img_size**2), negative_cov_matrix,negative_size)\n",
    "    negative_dataset = psi(gain_factor * z_mu_neg)/normalizer\n",
    "    \n",
    "    batch = torch.from_numpy(np.vstack([negative_dataset, positive_dataset]).astype(np.float32))\n",
    "    batch_labels = torch.from_numpy(np.array([-1]*negative_size + [1]*positive_size).astype('float32'))\n",
    "    # shuffle \n",
    "    shuf_idx= torch.randperm(n)\n",
    "    batch=batch[shuf_idx]\n",
    "    batch_labels=batch_labels[shuf_idx]\n",
    "    return batch, batch_labels"
   ]
  },
  {
   "cell_type": "code",
   "execution_count": 107,
   "id": "dfcac6eb",
   "metadata": {},
   "outputs": [],
   "source": [
    "batch, b_labels = get_online_batch(10000)"
   ]
  },
  {
   "cell_type": "code",
   "execution_count": 108,
   "id": "1b57169b",
   "metadata": {},
   "outputs": [
    {
     "data": {
      "image/png": "[encoded data removed]",
      "text/plain": [
       "<Figure size 432x288 with 1 Axes>"
      ]
     },
     "metadata": {
      "needs_background": "light"
     },
     "output_type": "display_data"
    }
   ],
   "source": [
    "plt.imshow(batch[np.where(b_labels==-1)[0][4]].reshape(28, 28))\n",
    "plt.savefig(\"g5ep5.png\",dpi=100)"
   ]
  },
  {
   "cell_type": "code",
   "execution_count": 74,
   "id": "1147830d",
   "metadata": {},
   "outputs": [
    {
     "data": {
      "text/plain": [
       "<matplotlib.image.AxesImage at 0x1a8a0ab6520>"
      ]
     },
     "execution_count": 74,
     "metadata": {},
     "output_type": "execute_result"
    },
    {
     "data": {
      "image/png": "[encoded data removed]",
      "text/plain": [
       "<Figure size 432x288 with 1 Axes>"
      ]
     },
     "metadata": {
      "needs_background": "light"
     },
     "output_type": "display_data"
    }
   ],
   "source": [
    "plt.imshow(batch[np.where(b_labels==1)[0][10]].reshape(28, 28))"
   ]
  },
  {
   "cell_type": "markdown",
   "id": "730ca469",
   "metadata": {},
   "source": [
    "## Train the net: "
   ]
  },
  {
   "cell_type": "code",
   "execution_count": null,
   "id": "54b4df10",
   "metadata": {},
   "outputs": [],
   "source": [
    "fc = FCN()"
   ]
  },
  {
   "cell_type": "code",
   "execution_count": null,
   "id": "56ad6d50",
   "metadata": {},
   "outputs": [],
   "source": [
    "mse = torch.nn.MSELoss()\n",
    "optimizer = torch.optim.SGD(fc.parameters(), lr=0.05, momentum=0.9)\n",
    "#optimizer = torch.optim.Adam(fc.parameters(), lr=0.001)\n",
    "num_epochs = 10000"
   ]
  },
  {
   "cell_type": "code",
   "execution_count": null,
   "id": "aaff07d9",
   "metadata": {},
   "outputs": [],
   "source": [
    "def total_IPR(W):\n",
    "    return (torch.sum(W**4,dim=1)/(torch.sum(W**2, dim=1))**2)"
   ]
  },
  {
   "cell_type": "code",
   "execution_count": null,
   "id": "381f61fd",
   "metadata": {},
   "outputs": [],
   "source": [
    "save_IPR=[]"
   ]
  },
  {
   "cell_type": "code",
   "execution_count": null,
   "id": "e4f4344f",
   "metadata": {},
   "outputs": [],
   "source": [
    "for epoch in tqdm(range(num_epochs)):\n",
    "    \n",
    "    inputs, labels = get_online_batch(1000)\n",
    "    out = fc(inputs)\n",
    "    loss = mse(out.squeeze(), labels)\n",
    "    \n",
    "    ## Backwards pass and optimization\n",
    "    optimizer.zero_grad()\n",
    "    loss.backward()\n",
    "    optimizer.step()\n",
    "    print(f'Train MSE is {loss}\\n')\n",
    "    \n",
    "    if epoch%10==0:\n",
    "        with torch.no_grad():\n",
    "            test_dataset, test_labels=get_online_batch(10000)\n",
    "            test_outs = fc(test_dataset)\n",
    "            accuracy = torch.sum( test_outs.sign().squeeze() == test_labels)/len(test_labels)\n",
    "            print(f\"Accuracy is {accuracy}\")\n",
    "            \n",
    "print('Finished Training')"
   ]
  },
  {
   "cell_type": "code",
   "execution_count": null,
   "id": "e359adc8",
   "metadata": {},
   "outputs": [],
   "source": [
    "W=fc.lin1.weight.data\n",
    "visualize_fields(W)"
   ]
  },
  {
   "cell_type": "code",
   "execution_count": null,
   "id": "e1726261",
   "metadata": {},
   "outputs": [],
   "source": [
    "plt.imshow(W[-8].reshape(28,28))"
   ]
  },
  {
   "cell_type": "code",
   "execution_count": null,
   "id": "cf0072ca",
   "metadata": {},
   "outputs": [],
   "source": [
    "torch.max(F.softmax(W[2]))"
   ]
  },
  {
   "cell_type": "code",
   "execution_count": null,
   "id": "11298da4",
   "metadata": {},
   "outputs": [],
   "source": [
    "save_IPR=np.array(save_IPR)"
   ]
  },
  {
   "cell_type": "code",
   "execution_count": null,
   "id": "5bbf8986",
   "metadata": {},
   "outputs": [],
   "source": [
    "for i in range(100):\n",
    "    plt.plot(np.arange(save_IPR.shape[0]),save_IPR[:,i])\n",
    "plt.show()"
   ]
  },
  {
   "cell_type": "code",
   "execution_count": null,
   "id": "b9816bbf",
   "metadata": {},
   "outputs": [],
   "source": [
    "save_IPR[0]"
   ]
  },
  {
   "cell_type": "code",
   "execution_count": null,
   "id": "f682a0b5",
   "metadata": {},
   "outputs": [],
   "source": [
    "save_IPR[10000]"
   ]
  },
  {
   "cell_type": "markdown",
   "id": "22b52fcf",
   "metadata": {},
   "source": [
    "## Train Convnet"
   ]
  },
  {
   "cell_type": "code",
   "execution_count": null,
   "id": "65904b80",
   "metadata": {},
   "outputs": [],
   "source": [
    "conv = MyConv()"
   ]
  },
  {
   "cell_type": "code",
   "execution_count": null,
   "id": "48904723",
   "metadata": {},
   "outputs": [],
   "source": [
    "mse = torch.nn.MSELoss()\n",
    "optimizer = torch.optim.SGD(conv.parameters(), lr=0.01, momentum=0.9)\n",
    "#optimizer = torch.optim.Adam(fc.parameters(), lr=0.001)\n",
    "num_epochs = 10000"
   ]
  },
  {
   "cell_type": "code",
   "execution_count": null,
   "id": "232260bd",
   "metadata": {},
   "outputs": [],
   "source": [
    "for epoch in tqdm(range(num_epochs)):\n",
    "    \n",
    "    inputs, labels = batch_sample(1000)\n",
    "    inputs = inputs.reshape(1000,1,28,28)\n",
    "    out = conv(inputs)\n",
    "    loss = mse(out.squeeze(), labels)\n",
    "    \n",
    "    ## Backwards pass and optimization\n",
    "    optimizer.zero_grad()\n",
    "    loss.backward()\n",
    "    optimizer.step()\n",
    "\n",
    "    print(f'MSE is {loss}\\n')\n",
    "    accuracy = torch.sum( out.sign().squeeze() == labels)\n",
    "    print(f\"Accuracy is {accuracy}\")\n",
    "print('Finished Training')"
   ]
  },
  {
   "cell_type": "code",
   "execution_count": null,
   "id": "004457e3",
   "metadata": {},
   "outputs": [],
   "source": [
    "from utils import *"
   ]
  },
  {
   "cell_type": "code",
   "execution_count": null,
   "id": "69d91b36",
   "metadata": {},
   "outputs": [],
   "source": [
    "from copy import deepcopy\n",
    "class MyLin(nn.Module):\n",
    "    def __init__(self, d=28):\n",
    "        super().__init__()\n",
    "        self.lin1 = conv_to_fc(conv.conv1)\n",
    "        self.fc = deepcopy(conv.fc)\n",
    "\n",
    "    def forward(self, x):\n",
    "        x = self.lin1(x)\n",
    "        x = F.relu(x)\n",
    "        x = self.fc(x)\n",
    "        return x"
   ]
  },
  {
   "cell_type": "code",
   "execution_count": null,
   "id": "9807f7f9",
   "metadata": {},
   "outputs": [],
   "source": [
    "ml = MyLin()"
   ]
  },
  {
   "cell_type": "code",
   "execution_count": null,
   "id": "6104ee2d",
   "metadata": {},
   "outputs": [],
   "source": [
    "W=ml.lin1.weight.data\n",
    "visualize_fields(W)"
   ]
  },
  {
   "cell_type": "markdown",
   "id": "afb94189",
   "metadata": {},
   "source": [
    "## Compute Cumulants"
   ]
  },
  {
   "cell_type": "code",
   "execution_count": 10,
   "id": "879beb00",
   "metadata": {},
   "outputs": [],
   "source": [
    "import tensorly as tl\n",
    "from tensorly.decomposition import parafac"
   ]
  },
  {
   "cell_type": "code",
   "execution_count": 94,
   "id": "c5159282",
   "metadata": {},
   "outputs": [],
   "source": [
    "sample_dataset = get_online_batch(10000)"
   ]
  },
  {
   "cell_type": "code",
   "execution_count": 95,
   "id": "0f8134e0",
   "metadata": {},
   "outputs": [],
   "source": [
    "batch, b_labels = sample_dataset"
   ]
  },
  {
   "cell_type": "code",
   "execution_count": 96,
   "id": "1a099ff3",
   "metadata": {},
   "outputs": [],
   "source": [
    "np_batch = batch.detach().numpy()"
   ]
  },
  {
   "cell_type": "code",
   "execution_count": 97,
   "id": "70c36794",
   "metadata": {},
   "outputs": [],
   "source": [
    "#np_batch=np_batch[b_labels==-1]"
   ]
  },
  {
   "cell_type": "code",
   "execution_count": 98,
   "id": "48c83e49",
   "metadata": {},
   "outputs": [],
   "source": [
    "mean_matrix =np.mean(np_batch,axis=0)"
   ]
  },
  {
   "cell_type": "code",
   "execution_count": 99,
   "id": "f2f701d5",
   "metadata": {},
   "outputs": [],
   "source": [
    "var_per_pixel = np.zeros((img_size**2,len(np_batch)))"
   ]
  },
  {
   "cell_type": "code",
   "execution_count": 45,
   "id": "b36d638e",
   "metadata": {},
   "outputs": [],
   "source": [
    "for i in range(img_size**2):\n",
    "    var_per_pixel[i] = np_batch[:,i] - mean_matrix[i]"
   ]
  },
  {
   "cell_type": "code",
   "execution_count": 101,
   "id": "2b8d7a52",
   "metadata": {},
   "outputs": [],
   "source": [
    "cum_mat = np.zeros((img_size**2,img_size**2,img_size**2,img_size**2))"
   ]
  },
  {
   "cell_type": "code",
   "execution_count": 12,
   "id": "e2eb56a2",
   "metadata": {},
   "outputs": [],
   "source": [
    "cnt=0\n",
    "for gain_factor in [0.1, 0.5, 1, 1.5, 2, 2.5, 3, 3.5, 4, 4.5, 5, 6, 8 ,10 ]:\n",
    "    # define functions\n",
    "    vec_erf = np.vectorize(math.erf)\n",
    "    psi = lambda z: vec_erf(z/(np.sqrt(2)))\n",
    "\n",
    "    #gain_factor=0.5\n",
    "    normalizer = np.sqrt(2/np.pi * np.arcsin(gain_factor**2/(1+gain_factor**2)))\n",
    "    epsilon_plus=5.6\n",
    "    epsilon_minus=2.8 \n",
    "    img_size = 100\n",
    "    mean_vector = np.zeros(img_size)\n",
    "    positive_cov_matrix = np.ones((img_size,img_size))\n",
    "    negative_cov_matrix = np.ones((img_size,img_size))\n",
    "\n",
    "    # Generate a random vector\n",
    "    #random_vector = np.random.multivariate_normal(mean_vector, cov_matrix)\n",
    "    for i in range(img_size):\n",
    "        for j in range(img_size):\n",
    "            positive_cov_matrix[i,j] = np.exp(- ( np.abs(i-j) / epsilon_plus)**2 )\n",
    "    \n",
    "    for i in range(img_size):\n",
    "        for j in range(img_size):\n",
    "            negative_cov_matrix[i,j] = np.exp(- ( np.abs(i-j) / epsilon_minus)**2 )\n",
    "    \n",
    "    def get_online_batch(n=1000):\n",
    "        #np.random.random()\n",
    "        positive_size=int(0.5*n)\n",
    "        negative_size=n-positive_size\n",
    "\n",
    "        z_mu_pos = np.random.multivariate_normal(np.ones(img_size), positive_cov_matrix,positive_size)\n",
    "        positive_dataset = psi(gain_factor * z_mu_pos)/normalizer\n",
    "\n",
    "        z_mu_neg = np.random.multivariate_normal(np.ones(img_size), negative_cov_matrix,negative_size)\n",
    "        negative_dataset = psi(gain_factor * z_mu_neg)/normalizer\n",
    "\n",
    "        batch = torch.from_numpy(np.vstack([negative_dataset, positive_dataset]).astype(np.float32))\n",
    "        batch_labels = torch.from_numpy(np.array([-1]*negative_size + [1]*positive_size).astype('float32'))\n",
    "        # shuffle \n",
    "        shuf_idx= torch.randperm(n)\n",
    "        batch=batch[shuf_idx]\n",
    "        batch_labels=batch_labels[shuf_idx]\n",
    "        return batch, batch_labels\n",
    "\n",
    "    sample_dataset = get_online_batch(10000)\n",
    "    batch, b_labels = sample_dataset\n",
    "    batch=batch[b_labels==1]\n",
    "    cnt+=1\n",
    "    np.save(f\"tilepos{cnt}.npy\",batch.detach().numpy())\n",
    "    b_labels=b_labels[b_labels==1]\n",
    "#     np_batch = batch.detach().numpy()\n",
    "#     mean_matrix =np.mean(np_batch,axis=0)\n",
    "#     var_per_pixel = np.zeros((img_size,len(np_batch)))\n",
    "\n",
    "#     for i in range(img_size):\n",
    "#         var_per_pixel[i] = np_batch[:,i] - mean_matrix[i]\n",
    "\n",
    "#     cum_mat = np.zeros((img_size,img_size,img_size,img_size))\n",
    "\n",
    "\n",
    "#     for i in tqdm(range(img_size)):\n",
    "#         for j in range(img_size):\n",
    "#             for k in range(img_size):\n",
    "#                 for l in range(img_size):\n",
    "#                     cum_mat[i,j,k,l] = np.sum(var_per_pixel[i] * var_per_pixel[j] * var_per_pixel[k] * var_per_pixel[l])/(len(np_batch)-1) - \\\n",
    "#                         np.sum(var_per_pixel[i]*var_per_pixel[j])/(len(np_batch)-1) * np.sum(var_per_pixel[k]*var_per_pixel[l])/(len(np_batch)-1) - \\\n",
    "#                         np.sum(var_per_pixel[i]*var_per_pixel[k])/(len(np_batch)-1) * np.sum(var_per_pixel[j]*var_per_pixel[l])/(len(np_batch)-1) - \\\n",
    "#                         np.sum(var_per_pixel[i]*var_per_pixel[l])/(len(np_batch)-1) * np.sum(var_per_pixel[j]*var_per_pixel[k])/(len(np_batch)-1)\n",
    "\n",
    "\n",
    "#     tensor = tl.tensor(cum_mat)\n",
    "#     factors = parafac(tensor, rank=1)\n",
    "#     factor_matrices = factors.factors\n",
    "#     print(IPR(torch.from_numpy(factor_matrices[0].astype(np.float32))))"
   ]
  },
  {
   "cell_type": "code",
   "execution_count": 122,
   "id": "69ced466",
   "metadata": {},
   "outputs": [
    {
     "data": {
      "text/plain": [
       "torch.Size([10000, 100])"
      ]
     },
     "execution_count": 122,
     "metadata": {},
     "output_type": "execute_result"
    }
   ],
   "source": [
    "sample_dataset[0].shape"
   ]
  },
  {
   "cell_type": "markdown",
   "id": "c31bf1ef",
   "metadata": {},
   "source": [
    "Problems: \n",
    "Check means"
   ]
  },
  {
   "cell_type": "code",
   "execution_count": 91,
   "id": "55387163",
   "metadata": {},
   "outputs": [
    {
     "data": {
      "text/plain": [
       "0.39039608017110133"
      ]
     },
     "execution_count": 91,
     "metadata": {},
     "output_type": "execute_result"
    }
   ],
   "source": [
    "np.mean(var_per_pixel[i]*var_per_pixel[j])"
   ]
  },
  {
   "cell_type": "code",
   "execution_count": 94,
   "id": "48dbadec",
   "metadata": {},
   "outputs": [
    {
     "data": {
      "text/plain": [
       "0.3983633471133586"
      ]
     },
     "execution_count": 94,
     "metadata": {},
     "output_type": "execute_result"
    }
   ],
   "source": [
    "np.cov(var_per_pixel[i],var_per_pixel[j])[0,1]"
   ]
  },
  {
   "cell_type": "code",
   "execution_count": 106,
   "id": "94a3b168",
   "metadata": {},
   "outputs": [
    {
     "data": {
      "text/plain": [
       "0.3983633471133587"
      ]
     },
     "execution_count": 106,
     "metadata": {},
     "output_type": "execute_result"
    }
   ],
   "source": [
    "cov_value(var_per_pixel[i],var_per_pixel[j])"
   ]
  },
  {
   "cell_type": "code",
   "execution_count": 107,
   "id": "78ffaa14",
   "metadata": {},
   "outputs": [],
   "source": [
    "def cov_value(x,y):\n",
    "\n",
    "\tmean_x = sum(x) / float(len(x))\n",
    "\tmean_y = sum(y) / float(len(y))\n",
    "\n",
    "\tsub_x = [i - mean_x for i in x]\n",
    "\tsub_y = [i - mean_y for i in y]\n",
    "\n",
    "\tsum_value = sum([sub_y[i]*sub_x[i] for i in range(len(x))])\n",
    "\tdenom = float(len(x)-1)\n",
    "\n",
    "\tcov = sum_value/denom\n",
    "\treturn cov"
   ]
  },
  {
   "cell_type": "code",
   "execution_count": 100,
   "id": "3f047b7e",
   "metadata": {},
   "outputs": [
    {
     "data": {
      "text/plain": [
       "array([2., 6., 5.])"
      ]
     },
     "execution_count": 100,
     "metadata": {},
     "output_type": "execute_result"
    }
   ],
   "source": [
    "means"
   ]
  },
  {
   "cell_type": "code",
   "execution_count": null,
   "id": "3759600e",
   "metadata": {},
   "outputs": [],
   "source": [
    "\n",
    "for i in tqdm(range(img_size**2)):\n",
    "    for j in range(img_size**2):\n",
    "        for k in range(img_size**2):\n",
    "            for l in range(img_size**2):\n",
    "                cum_mat[i,j,k,l] = np.mean(var_per_pixel[i] * var_per_pixel[j] * var_per_pixel[k] * var_per_pixel[l])"
   ]
  },
  {
   "cell_type": "code",
   "execution_count": 86,
   "id": "7eec9ef6",
   "metadata": {},
   "outputs": [
    {
     "name": "stdout",
     "output_type": "stream",
     "text": [
      "tensor(0.0421)\n"
     ]
    }
   ],
   "source": [
    "    tensor = tl.tensor(cum_mat)\n",
    "    factors = parafac(tensor, rank=1)\n",
    "    factor_matrices = factors.factors\n",
    "    print(IPR(torch.from_numpy(factor_matrices[0].astype(np.float32))))"
   ]
  },
  {
   "cell_type": "markdown",
   "id": "927ebcc3",
   "metadata": {},
   "source": [
    "0.0416"
   ]
  },
  {
   "cell_type": "code",
   "execution_count": 59,
   "id": "43e0a586",
   "metadata": {},
   "outputs": [
    {
     "data": {
      "text/plain": [
       "(16,)"
      ]
     },
     "execution_count": 59,
     "metadata": {},
     "output_type": "execute_result"
    }
   ],
   "source": [
    "np_batch.mean(axis=0).shape"
   ]
  },
  {
   "cell_type": "code",
   "execution_count": 62,
   "id": "6c2f3ee2",
   "metadata": {},
   "outputs": [
    {
     "data": {
      "text/plain": [
       "0.39039608017110133"
      ]
     },
     "execution_count": 62,
     "metadata": {},
     "output_type": "execute_result"
    }
   ],
   "source": [
    "np.mean(var_per_pixel[i]*var_per_pixel[j]) "
   ]
  },
  {
   "cell_type": "code",
   "execution_count": 64,
   "id": "cb423175",
   "metadata": {},
   "outputs": [
    {
     "data": {
      "text/plain": [
       "0.4560093787338222"
      ]
     },
     "execution_count": 64,
     "metadata": {},
     "output_type": "execute_result"
    }
   ],
   "source": [
    "np.cov(var_per_pixel[i],var_per_pixel[j])"
   ]
  },
  {
   "cell_type": "code",
   "execution_count": null,
   "id": "53bdf518",
   "metadata": {},
   "outputs": [],
   "source": []
  }
 ],
 "metadata": {
  "kernelspec": {
   "display_name": "base",
   "language": "python",
   "name": "base"
  },
  "language_info": {
   "codemirror_mode": {
    "name": "ipython",
    "version": 3
   },
   "file_extension": ".py",
   "mimetype": "text/x-python",
   "name": "python",
   "nbconvert_exporter": "python",
   "pygments_lexer": "ipython3",
   "version": "3.8.10"
  }
 },
 "nbformat": 4,
 "nbformat_minor": 5
}
